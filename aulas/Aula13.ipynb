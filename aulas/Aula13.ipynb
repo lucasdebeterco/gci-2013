{
 "cells": [
  {
   "cell_type": "code",
   "execution_count": 3,
   "metadata": {},
   "outputs": [
    {
     "ename": "ModuleNotFoundError",
     "evalue": "No module named 'sklearn'",
     "output_type": "error",
     "traceback": [
      "\u001b[1;31m---------------------------------------------------------------------------\u001b[0m",
      "\u001b[1;31mModuleNotFoundError\u001b[0m                       Traceback (most recent call last)",
      "Cell \u001b[1;32mIn[3], line 5\u001b[0m\n\u001b[0;32m      2\u001b[0m \u001b[39mimport\u001b[39;00m \u001b[39mxlrd\u001b[39;00m\n\u001b[0;32m      3\u001b[0m \u001b[39mimport\u001b[39;00m \u001b[39mnumpy\u001b[39;00m \u001b[39mas\u001b[39;00m \u001b[39mnp\u001b[39;00m\n\u001b[1;32m----> 5\u001b[0m \u001b[39mfrom\u001b[39;00m \u001b[39msklearn\u001b[39;00m\u001b[39m.\u001b[39;00m\u001b[39mlinear_model\u001b[39;00m \u001b[39mimport\u001b[39;00m LogisticRegression\n\u001b[0;32m      6\u001b[0m \u001b[39mfrom\u001b[39;00m \u001b[39msklearn\u001b[39;00m\u001b[39m.\u001b[39;00m\u001b[39mpreprocessing\u001b[39;00m \u001b[39mimport\u001b[39;00m StandardScaler\n\u001b[0;32m      8\u001b[0m estados \u001b[39m=\u001b[39m pd\u001b[39m.\u001b[39mread_csv(\u001b[39m'\u001b[39m\u001b[39mbrasil_estados.csv\u001b[39m\u001b[39m'\u001b[39m)\n",
      "\u001b[1;31mModuleNotFoundError\u001b[0m: No module named 'sklearn'"
     ]
    }
   ],
   "source": [
    "import pandas as pd\n",
    "import xlrd\n",
    "import numpy as np\n",
    "\n",
    "from sklearn.linear_model import LogisticRegression\n",
    "from sklearn.preprocessing import StandardScaler\n",
    "\n",
    "estados = pd.read_csv('brasil_estados.csv')\n",
    "estados\n",
    "\n",
    "variaveis = [\n",
    "    'area',\n",
    "    'populacao',\n",
    "    'densidade',\n",
    "    'matricula',\n",
    "    'idh',\n",
    "    'receitas',\n",
    "    'despesas',\n",
    "    'rendimento',\n",
    "    'veiculos'\n",
    "]\n",
    "\n",
    "data = estados[variaveis].copy()\n",
    "data['regiao'] = estados['regiao_nome']\n",
    "X_Train = data.drop(columns=['regiao'], axis=1)\n",
    "X_Test = data.drop(columns=['regiao'], axis=1)\n",
    "y_Train = data['regiao']\n",
    "y_Test = data['regiao']\n",
    "sc_x = StandardScaler()\n",
    "X_Train = sc_x.fit_transform(X_Train)\n",
    "X_Test = sc_x.fit_transform(X_Test)\n",
    "logreg = LogisticRegression(solver=\"lbfgs\", max_iter=500)\n",
    "logreg.fit(X_Train, y_Train)\n",
    "\n",
    "pred_logreg = logreg.predict(X_Test)\n",
    "pred_proba = logreg.predict_proba(X_Test)\n",
    "\n",
    "datar = estados[['regiao_nome','uf']].copy()\n",
    "datar = datar.merge(data, left_index=True, right_index=True)\n",
    "datar[\"regiao_pred\"] = pred_logreg\n",
    "datar\n",
    "\n",
    "lista_proba = pred_proba.tolist()\n",
    "lista_proba = pd.DataFrame(\n",
    "    lista_proba,\n",
    "    columns = [\n",
    "        'CentroOeste', 'Nordeste', 'Norte', 'Sudeste', 'Sul'\n",
    "    ]\n",
    ")\n",
    "lista_proba\n",
    "\n",
    "datar = pd.merge(datar, lista_proba, left_index=True, right_index=True)\n",
    "datar"
   ]
  }
 ],
 "metadata": {
  "kernelspec": {
   "display_name": "Python 3",
   "language": "python",
   "name": "python3"
  },
  "language_info": {
   "codemirror_mode": {
    "name": "ipython",
    "version": 3
   },
   "file_extension": ".py",
   "mimetype": "text/x-python",
   "name": "python",
   "nbconvert_exporter": "python",
   "pygments_lexer": "ipython3",
   "version": "3.11.3"
  },
  "orig_nbformat": 4
 },
 "nbformat": 4,
 "nbformat_minor": 2
}
