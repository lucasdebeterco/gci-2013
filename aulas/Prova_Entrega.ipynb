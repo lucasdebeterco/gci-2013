{
  "cells": [
    {
      "cell_type": "markdown",
      "metadata": {
        "id": "PwmPyWmv9vcb"
      },
      "source": [
        "#Atividades"
      ]
    },
    {
      "cell_type": "markdown",
      "metadata": {
        "id": "2PQVU5HV-Hrl"
      },
      "source": [
        "#PR"
      ]
    },
    {
      "cell_type": "markdown",
      "metadata": {
        "id": "7f2Ydzil-RRB"
      },
      "source": [
        "##01"
      ]
    },
    {
      "cell_type": "code",
      "execution_count": null,
      "metadata": {
        "id": "fae_Cp5M-dYs"
      },
      "outputs": [],
      "source": [
        "import pandas as pd\n",
        "import numpy as np\n",
        "from statsmodels.stats.outliers_influence import variance_inflation_factor"
      ]
    },
    {
      "cell_type": "code",
      "execution_count": null,
      "metadata": {
        "colab": {
          "base_uri": "https://localhost:8080/"
        },
        "id": "bvs4NQHg-4jl",
        "outputId": "9a5c9e59-24ab-45e1-c47d-952da4ca86c2"
      },
      "outputs": [],
      "source": [
        "cidades = pd.read_excel('BRCidadesRegiao.xlsx')\n",
        "cidades"
      ]
    },
    {
      "cell_type": "code",
      "execution_count": null,
      "metadata": {
        "id": "7VRfGwHO-9YS"
      },
      "outputs": [],
      "source": [
        "cidades = cidades[['regiao_imediata', 'cidade', 'estado', 'longitude', 'latitude', 'altitude',\n",
        "'area_territorial', 'populacao_estimada', 'densidade_demografica', 'pib_per_capita', 'receitas_realizadas',\n",
        "'despesas_empenhadas', 'saldo_receitas_despesas', 'unidades', 'unidades_urbanas', 'unidades_rurais', 'area_plantada', 'producao_graos',\n",
        "'IDHM_Renda', 'IDHM_Longevidade', 'IDHM_Educacao', 'GVA_agropecuaria', 'GVA_industria', 'GVA_Servicos', 'GVA_publico',\n",
        "'GDP', 'GDP_populacao', 'GDP_per_capita', 'estabelecimentos', 'carros', 'motos'\n",
        "]].copy()"
      ]
    },
    {
      "cell_type": "code",
      "execution_count": null,
      "metadata": {
        "colab": {
          "base_uri": "https://localhost:8080/"
        },
        "id": "wde0-v-w_ABo",
        "outputId": "351a5724-c8d7-4080-a648-18e3d7f63a5f"
      },
      "outputs": [],
      "source": [
        "cidades.info()"
      ]
    },
    {
      "cell_type": "code",
      "execution_count": null,
      "metadata": {
        "colab": {
          "base_uri": "https://localhost:8080/"
        },
        "id": "xAlJJ_Ci_EUU",
        "outputId": "bbb53afb-8b56-4aa1-c8e8-ff28c4325b71"
      },
      "outputs": [],
      "source": [
        "cidades.replace([np.inf, -np.inf], np.nan, inplace=True)\n",
        "cidades.dropna(inplace=True)\n",
        "cidades"
      ]
    },
    {
      "cell_type": "code",
      "execution_count": null,
      "metadata": {
        "colab": {
          "base_uri": "https://localhost:8080/"
        },
        "id": "Qr7-Iiqu_I1h",
        "outputId": "beafdfa1-0578-4ec2-e8ab-4ff9b9c5efaf"
      },
      "outputs": [],
      "source": [
        "cidades['estado'].unique()"
      ]
    },
    {
      "cell_type": "code",
      "execution_count": null,
      "metadata": {
        "colab": {
          "base_uri": "https://localhost:8080/"
        },
        "id": "l5AQ_dEy_N26",
        "outputId": "777958a0-2dce-4f45-f348-24a92f06ff8f"
      },
      "outputs": [],
      "source": [
        "cidades_pr = cidades[cidades['estado'] == 'PR'].copy()\n",
        "cidades_pr"
      ]
    },
    {
      "cell_type": "code",
      "execution_count": null,
      "metadata": {
        "colab": {
          "base_uri": "https://localhost:8080/"
        },
        "id": "oGTNLrYm_VDF",
        "outputId": "76f217c3-c976-4152-8e84-8697f3ef6565"
      },
      "outputs": [],
      "source": [
        "vif_dt = cidades_pr[[\n",
        "'area_territorial', 'populacao_estimada', 'densidade_demografica', 'pib_per_capita', 'receitas_realizadas',\n",
        "'despesas_empenhadas', 'saldo_receitas_despesas', 'unidades', 'unidades_urbanas', 'unidades_rurais', 'area_plantada', 'producao_graos',\n",
        "'IDHM_Renda', 'IDHM_Longevidade', 'IDHM_Educacao', 'GVA_agropecuaria', 'GVA_industria', 'GVA_Servicos', 'GVA_publico',\n",
        "'GDP', 'GDP_populacao', 'GDP_per_capita', 'estabelecimentos', 'carros', 'motos'\n",
        "]]\n",
        "vif_dt"
      ]
    },
    {
      "cell_type": "code",
      "execution_count": null,
      "metadata": {
        "colab": {
          "base_uri": "https://localhost:8080/"
        },
        "id": "VPQomRlQ_fEI",
        "outputId": "1f3a01e4-72dc-4c7d-f3d9-4e070a9fe1e6"
      },
      "outputs": [],
      "source": [
        "vif_data = pd.DataFrame()\n",
        "vif_data['variavel'] = vif_dt.columns\n",
        "vif_data['VIF'] = [variance_inflation_factor(vif_dt.values, i)\n",
        "    for i in range(len(vif_dt.columns))]\n",
        "round(vif_data,4)"
      ]
    },
    {
      "cell_type": "code",
      "execution_count": null,
      "metadata": {
        "colab": {
          "base_uri": "https://localhost:8080/"
        },
        "id": "ZZ2RkeUR_j12",
        "outputId": "9deafb85-73bc-4b1d-c9d5-486ff1e618cc"
      },
      "outputs": [],
      "source": [
        "vif_dt = cidades_pr[[\n",
        "'area_territorial', 'populacao_estimada', 'pib_per_capita',\n",
        "'saldo_receitas_despesas', 'IDHM_Educacao', 'GDP']]\n",
        "vif_dt"
      ]
    },
    {
      "cell_type": "code",
      "execution_count": null,
      "metadata": {
        "colab": {
          "base_uri": "https://localhost:8080/"
        },
        "id": "R_W3jkyjABrT",
        "outputId": "87e7ccb9-4963-4485-bc25-cff6da885826"
      },
      "outputs": [],
      "source": [
        "vif_data = pd.DataFrame()\n",
        "vif_data['variavel'] = vif_dt.columns\n",
        "vif_data['VIF'] = [variance_inflation_factor(vif_dt.values, i)\n",
        "    for i in range(len(vif_dt.columns))]\n",
        "vif_data"
      ]
    },
    {
      "cell_type": "markdown",
      "metadata": {
        "id": "V8KIenOV-YZP"
      },
      "source": [
        "##02"
      ]
    },
    {
      "cell_type": "code",
      "execution_count": null,
      "metadata": {
        "colab": {
          "base_uri": "https://localhost:8080/"
        },
        "id": "mSsaADHfAHBV",
        "outputId": "d864c6a7-46f3-4064-bacb-016a6f0b7933"
      },
      "outputs": [],
      "source": [
        "vif_dt = vif_dt.copy()\n",
        "for coluna in vif_dt.columns:\n",
        "    print(coluna)\n",
        "    out_max = vif_dt[coluna].quantile(0.75) + ((vif_dt[coluna].quantile(0.75) - vif_dt[coluna].quantile(0.25)) * 1.5)\n",
        "    print(out_max)\n",
        "    vif_dt[coluna] = vif_dt[coluna].apply(lambda x : out_max if x > out_max else x)\n",
        "    out_min = vif_dt[coluna].quantile(0.25) - ((vif_dt[coluna].quantile(0.75) - vif_dt[coluna].quantile(0.25)) * 1.5)\n",
        "    print(out_min)\n",
        "    vif_dt[coluna] = vif_dt[coluna].apply(lambda x : out_min if x < out_min else x)\n",
        "vif_dt"
      ]
    },
    {
      "cell_type": "markdown",
      "metadata": {
        "id": "Q7IU2JauAPRr"
      },
      "source": [
        "##3"
      ]
    },
    {
      "cell_type": "code",
      "execution_count": null,
      "metadata": {
        "colab": {
          "base_uri": "https://localhost:8080/"
        },
        "id": "R6jmFKvRARHY",
        "outputId": "42671770-4b72-4f94-80d0-2a4e92c08fdd"
      },
      "outputs": [],
      "source": [
        "colunas = ['area_territorial', 'populacao_estimada', 'pib_per_capita', 'saldo_receitas_despesas', 'IDHM_Educacao', 'GDP']\n",
        "sel = colunas\n",
        "cidadesz = vif_dt[sel].copy()\n",
        "listaz = []\n",
        "for coluna in colunas:\n",
        "    if coluna != \"cidade\":\n",
        "        print(coluna)\n",
        "        listaz.insert(0, 'z_'+coluna)\n",
        "        media = cidadesz[coluna].mean()\n",
        "        dp = cidadesz[coluna].std()\n",
        "        cidadesz['z_'+coluna] = cidadesz[coluna].apply(lambda x : (x - media) / dp)\n",
        "cidadesz['totalz'] = cidadesz[listaz].sum(axis=1)\n",
        "cidadesz['ranking'] = cidadesz['totalz'].rank(ascending=False)\n",
        "cidadesz "
      ]
    },
    {
      "cell_type": "code",
      "execution_count": null,
      "metadata": {
        "colab": {
          "base_uri": "https://localhost:8080/"
        },
        "id": "9rNB2diyAYDG",
        "outputId": "3ef6009a-c9c2-4e1a-dc2e-79a1154b28f5"
      },
      "outputs": [],
      "source": [
        "cidades_pr = cidades_pr.merge(cidadesz, right_index=True, left_index=True, how = 'left')\n",
        "cidades_pr"
      ]
    },
    {
      "cell_type": "code",
      "execution_count": null,
      "metadata": {
        "colab": {
          "base_uri": "https://localhost:8080/"
        },
        "id": "86Xd7XltAgoD",
        "outputId": "eaad5a42-4e11-4bd5-ffe5-712440a1788f"
      },
      "outputs": [],
      "source": [
        "cidades_pr.sort_values(by='ranking')[0:10]"
      ]
    },
    {
      "cell_type": "code",
      "execution_count": null,
      "metadata": {
        "colab": {
          "base_uri": "https://localhost:8080/"
        },
        "id": "olWIxW0FAlH3",
        "outputId": "7430a79a-85fa-440f-dc9f-c97aa745aa93"
      },
      "outputs": [],
      "source": [
        "cidades_pr.sort_values(by='ranking', ascending=False)[0:10]"
      ]
    },
    {
      "cell_type": "markdown",
      "metadata": {
        "id": "fq8qUndJAptE"
      },
      "source": [
        "##4"
      ]
    },
    {
      "cell_type": "code",
      "execution_count": null,
      "metadata": {
        "colab": {
          "base_uri": "https://localhost:8080/"
        },
        "id": "5lNtqnZ3AsGm",
        "outputId": "c4818c25-e30b-4655-851f-046c32130eb6"
      },
      "outputs": [],
      "source": [
        "regioes = cidades.groupby(['estado','regiao_imediata'])[\n",
        "    ['area_territorial', 'populacao_estimada', 'pib_per_capita', 'saldo_receitas_despesas', 'IDHM_Educacao', 'GDP']\n",
        "    ].mean().reset_index().copy()\n",
        "regioes"
      ]
    },
    {
      "cell_type": "code",
      "execution_count": null,
      "metadata": {
        "colab": {
          "base_uri": "https://localhost:8080/"
        },
        "id": "AIqgRpoHAy-O",
        "outputId": "4c33ae4f-80fd-455c-f9c7-5db3c782dba7"
      },
      "outputs": [],
      "source": [
        "regioes_pr = regioes[regioes['estado'] == 'PR']\n",
        "regioes_pr"
      ]
    },
    {
      "cell_type": "code",
      "execution_count": null,
      "metadata": {
        "colab": {
          "base_uri": "https://localhost:8080/"
        },
        "id": "Cw-JOeg5BSjG",
        "outputId": "b68e9525-546e-4728-c486-326a4b9da7a2"
      },
      "outputs": [],
      "source": [
        "colunas = ['area_territorial', 'populacao_estimada', 'pib_per_capita', 'saldo_receitas_despesas', 'IDHM_Educacao', 'GDP']\n",
        "sel = colunas\n",
        "regioesz = regioes_pr[sel].copy()\n",
        "listaz = []\n",
        "for coluna in colunas:\n",
        "    if (coluna != \"estado\") & (coluna != \"regiao_imediata\"):\n",
        "        print(coluna)\n",
        "        listaz.insert(0, 'z_'+coluna)\n",
        "        media = regioesz[coluna].mean()\n",
        "        dp = regioesz[coluna].std()\n",
        "        regioesz['z_'+coluna] = regioesz[coluna].apply(lambda x : (x - media) / dp)\n",
        "regioesz['totalz'] = regioesz[listaz].sum(axis=1)\n",
        "regioesz['ranking'] = regioesz['totalz'].rank(ascending=False)\n",
        "regioesz  "
      ]
    },
    {
      "cell_type": "code",
      "execution_count": null,
      "metadata": {
        "colab": {
          "base_uri": "https://localhost:8080/"
        },
        "id": "cbhlfVD6Bd_s",
        "outputId": "5c09c624-2fcd-4f3a-c2b3-0592d7c86a5a"
      },
      "outputs": [],
      "source": [
        "regioes_pr = regioes_pr.merge(regioesz, right_index=True, left_index=True, how = 'left')\n",
        "regioes_pr"
      ]
    },
    {
      "cell_type": "code",
      "execution_count": null,
      "metadata": {
        "colab": {
          "base_uri": "https://localhost:8080/"
        },
        "id": "Xp3uSMI8BnWN",
        "outputId": "b9457ee7-839d-41f9-d308-3244725d26f2"
      },
      "outputs": [],
      "source": [
        "regioes_pr.sort_values(by='ranking')[0:3]"
      ]
    },
    {
      "cell_type": "code",
      "execution_count": null,
      "metadata": {
        "colab": {
          "base_uri": "https://localhost:8080/"
        },
        "id": "eG3K263sBsDp",
        "outputId": "56aea720-53f0-463e-ebea-0a20a7921c1e"
      },
      "outputs": [],
      "source": [
        "regioes_pr.sort_values(by='ranking', ascending=False)[0:3]"
      ]
    },
    {
      "cell_type": "markdown",
      "metadata": {
        "id": "nCHaH52EB8gQ"
      },
      "source": [
        "#SP"
      ]
    },
    {
      "cell_type": "markdown",
      "metadata": {
        "id": "JUDVFoXXB8gQ"
      },
      "source": [
        "##01"
      ]
    },
    {
      "cell_type": "code",
      "execution_count": null,
      "metadata": {
        "id": "-HVRSWrMB8gR"
      },
      "outputs": [],
      "source": [
        "import pandas as pd\n",
        "import numpy as np\n",
        "from statsmodels.stats.outliers_influence import variance_inflation_factor"
      ]
    },
    {
      "cell_type": "code",
      "execution_count": null,
      "metadata": {
        "colab": {
          "base_uri": "https://localhost:8080/",
          "height": 627
        },
        "id": "1gFGrXjWB8gR",
        "outputId": "da021db7-4b62-4eb6-8fd6-90548cc664aa"
      },
      "outputs": [],
      "source": [
        "cidades = pd.read_excel('BRCidadesRegiao.xlsx')\n",
        "cidades"
      ]
    },
    {
      "cell_type": "code",
      "execution_count": null,
      "metadata": {
        "id": "or_9kJRjB8gR"
      },
      "outputs": [],
      "source": [
        "cidades = cidades[['regiao_imediata', 'cidade', 'estado', 'longitude', 'latitude', 'altitude',\n",
        "'area_territorial', 'populacao_estimada', 'densidade_demografica', 'pib_per_capita', 'receitas_realizadas',\n",
        "'despesas_empenhadas', 'saldo_receitas_despesas', 'unidades', 'unidades_urbanas', 'unidades_rurais', 'area_plantada', 'producao_graos',\n",
        "'IDHM_Renda', 'IDHM_Longevidade', 'IDHM_Educacao', 'GVA_agropecuaria', 'GVA_industria', 'GVA_Servicos', 'GVA_publico',\n",
        "'GDP', 'GDP_populacao', 'GDP_per_capita', 'estabelecimentos', 'carros', 'motos'\n",
        "]].copy()"
      ]
    },
    {
      "cell_type": "code",
      "execution_count": null,
      "metadata": {
        "colab": {
          "base_uri": "https://localhost:8080/"
        },
        "id": "xbvvUK5AB8gR",
        "outputId": "ff532f40-a38e-4451-9293-7a7b9eeb4907"
      },
      "outputs": [],
      "source": [
        "cidades.info()"
      ]
    },
    {
      "cell_type": "code",
      "execution_count": null,
      "metadata": {
        "colab": {
          "base_uri": "https://localhost:8080/",
          "height": 609
        },
        "id": "nJytEH8cB8gR",
        "outputId": "b6a0d00e-4734-4e49-e65b-b916854f6d49"
      },
      "outputs": [],
      "source": [
        "cidades.replace([np.inf, -np.inf], np.nan, inplace=True)\n",
        "cidades.dropna(inplace=True)\n",
        "cidades"
      ]
    },
    {
      "cell_type": "code",
      "execution_count": null,
      "metadata": {
        "colab": {
          "base_uri": "https://localhost:8080/"
        },
        "id": "n8YjAQwnB8gS",
        "outputId": "7af8cc0f-af64-4bd6-eed6-40aa96b55348"
      },
      "outputs": [],
      "source": [
        "cidades['estado'].unique()"
      ]
    },
    {
      "cell_type": "code",
      "execution_count": null,
      "metadata": {
        "colab": {
          "base_uri": "https://localhost:8080/",
          "height": 696
        },
        "id": "uDihD5EHB8gS",
        "outputId": "84468b30-7185-47ec-a56c-f76ce2cdd473"
      },
      "outputs": [],
      "source": [
        "cidades_sp = cidades[cidades['estado'] == 'SP'].copy()\n",
        "cidades_sp"
      ]
    },
    {
      "cell_type": "code",
      "execution_count": null,
      "metadata": {
        "colab": {
          "base_uri": "https://localhost:8080/",
          "height": 488
        },
        "id": "IUhq7nqQB8gS",
        "outputId": "b3bbe588-eb81-4004-b17a-25a79e29d913"
      },
      "outputs": [],
      "source": [
        "vif_dt = cidades_sp[[\n",
        "'area_territorial', 'populacao_estimada', 'densidade_demografica', 'pib_per_capita', 'receitas_realizadas',\n",
        "'despesas_empenhadas', 'saldo_receitas_despesas', 'unidades', 'unidades_urbanas', 'unidades_rurais', 'area_plantada', 'producao_graos',\n",
        "'IDHM_Renda', 'IDHM_Longevidade', 'IDHM_Educacao', 'GVA_agropecuaria', 'GVA_industria', 'GVA_Servicos', 'GVA_publico',\n",
        "'GDP', 'GDP_populacao', 'GDP_per_capita', 'estabelecimentos', 'carros', 'motos'\n",
        "]]\n",
        "vif_dt"
      ]
    },
    {
      "cell_type": "code",
      "execution_count": null,
      "metadata": {
        "colab": {
          "base_uri": "https://localhost:8080/",
          "height": 868
        },
        "id": "cNaYYuDxB8gS",
        "outputId": "153165cc-f4e1-4254-99fd-1390027ebaf0"
      },
      "outputs": [],
      "source": [
        "vif_data = pd.DataFrame()\n",
        "vif_data['variavel'] = vif_dt.columns\n",
        "vif_data['VIF'] = [variance_inflation_factor(vif_dt.values, i)\n",
        "    for i in range(len(vif_dt.columns))]\n",
        "round(vif_data,4)"
      ]
    },
    {
      "cell_type": "code",
      "execution_count": null,
      "metadata": {
        "colab": {
          "base_uri": "https://localhost:8080/",
          "height": 424
        },
        "id": "glqmu2EmB8gS",
        "outputId": "407e2880-19c9-40d1-96e9-e8574ec7eeec"
      },
      "outputs": [],
      "source": [
        "vif_dt = cidades_sp[[\n",
        "'area_territorial', 'populacao_estimada', 'pib_per_capita',\n",
        "'saldo_receitas_despesas', 'IDHM_Educacao', 'GDP']]\n",
        "vif_dt"
      ]
    },
    {
      "cell_type": "code",
      "execution_count": null,
      "metadata": {
        "colab": {
          "base_uri": "https://localhost:8080/",
          "height": 238
        },
        "id": "RQ_omJTSB8gT",
        "outputId": "1c33b7bb-a1ae-4586-c1c4-c20be0709171"
      },
      "outputs": [],
      "source": [
        "vif_data = pd.DataFrame()\n",
        "vif_data['variavel'] = vif_dt.columns\n",
        "vif_data['VIF'] = [variance_inflation_factor(vif_dt.values, i)\n",
        "    for i in range(len(vif_dt.columns))]\n",
        "vif_data"
      ]
    },
    {
      "cell_type": "markdown",
      "metadata": {
        "id": "7HRSb16RB8gT"
      },
      "source": [
        "##02"
      ]
    },
    {
      "cell_type": "code",
      "execution_count": null,
      "metadata": {
        "colab": {
          "base_uri": "https://localhost:8080/",
          "height": 736
        },
        "id": "p-7O7TbpB8gV",
        "outputId": "c8c14cbc-5469-4e73-f3e9-a1e31df9d3ad"
      },
      "outputs": [],
      "source": [
        "vif_dt = vif_dt.copy()\n",
        "for coluna in vif_dt.columns:\n",
        "    print(coluna)\n",
        "    out_max = vif_dt[coluna].quantile(0.75) + ((vif_dt[coluna].quantile(0.75) - vif_dt[coluna].quantile(0.25)) * 1.5)\n",
        "    print(out_max)\n",
        "    vif_dt[coluna] = vif_dt[coluna].apply(lambda x : out_max if x > out_max else x)\n",
        "    out_min = vif_dt[coluna].quantile(0.25) - ((vif_dt[coluna].quantile(0.75) - vif_dt[coluna].quantile(0.25)) * 1.5)\n",
        "    print(out_min)\n",
        "    vif_dt[coluna] = vif_dt[coluna].apply(lambda x : out_min if x < out_min else x)\n",
        "vif_dt"
      ]
    },
    {
      "cell_type": "markdown",
      "metadata": {
        "id": "XHo43FIvB8gV"
      },
      "source": [
        "##3"
      ]
    },
    {
      "cell_type": "code",
      "execution_count": null,
      "metadata": {
        "colab": {
          "base_uri": "https://localhost:8080/",
          "height": 592
        },
        "id": "6WcUpwwrB8gV",
        "outputId": "a736cf10-110b-49d5-e9d8-699f0a7c057b"
      },
      "outputs": [],
      "source": [
        "colunas = ['area_territorial', 'populacao_estimada', 'pib_per_capita', 'saldo_receitas_despesas', 'IDHM_Educacao', 'GDP']\n",
        "sel = colunas\n",
        "cidadesz = vif_dt[sel].copy()\n",
        "listaz = []\n",
        "for coluna in colunas:\n",
        "    if coluna != \"cidade\":\n",
        "        print(coluna)\n",
        "        listaz.insert(0, 'z_'+coluna)\n",
        "        media = cidadesz[coluna].mean()\n",
        "        dp = cidadesz[coluna].std()\n",
        "        cidadesz['z_'+coluna] = cidadesz[coluna].apply(lambda x : (x - media) / dp)\n",
        "cidadesz['totalz'] = cidadesz[listaz].sum(axis=1)\n",
        "cidadesz['ranking'] = cidadesz['totalz'].rank(ascending=False)\n",
        "cidadesz "
      ]
    },
    {
      "cell_type": "code",
      "execution_count": null,
      "metadata": {
        "colab": {
          "base_uri": "https://localhost:8080/",
          "height": 696
        },
        "id": "Y_5k9dkiB8gW",
        "outputId": "8f185d6e-13db-4b92-b03c-5fb52030b38c"
      },
      "outputs": [],
      "source": [
        "cidades_sp = cidades_sp.merge(cidadesz, right_index=True, left_index=True, how = 'left')\n",
        "cidades_sp"
      ]
    },
    {
      "cell_type": "code",
      "execution_count": null,
      "metadata": {
        "colab": {
          "base_uri": "https://localhost:8080/",
          "height": 630
        },
        "id": "QVZgMmWwB8gW",
        "outputId": "9524f444-21d5-49c7-ad39-aa9f68725fc7"
      },
      "outputs": [],
      "source": [
        "cidades_sp.sort_values(by='ranking')[0:10]"
      ]
    },
    {
      "cell_type": "code",
      "execution_count": null,
      "metadata": {
        "colab": {
          "base_uri": "https://localhost:8080/",
          "height": 595
        },
        "id": "X4sKSlHlB8gW",
        "outputId": "62dacc84-c0f4-4b5d-e8df-0abbe9df0ff4"
      },
      "outputs": [],
      "source": [
        "cidades_sp.sort_values(by='ranking', ascending=False)[0:10]"
      ]
    },
    {
      "cell_type": "markdown",
      "metadata": {
        "id": "piNYAOVCB8gW"
      },
      "source": [
        "##4"
      ]
    },
    {
      "cell_type": "code",
      "execution_count": null,
      "metadata": {
        "colab": {
          "base_uri": "https://localhost:8080/",
          "height": 468
        },
        "id": "xjrOedWgB8gW",
        "outputId": "d24ed34d-f5b0-4922-d86b-c403d4202e24"
      },
      "outputs": [],
      "source": [
        "regioes = cidades.groupby(['estado','regiao_imediata'])[\n",
        "    ['area_territorial', 'populacao_estimada', 'pib_per_capita', 'saldo_receitas_despesas', 'IDHM_Educacao', 'GDP']\n",
        "    ].mean().reset_index().copy()\n",
        "regioes"
      ]
    },
    {
      "cell_type": "code",
      "execution_count": null,
      "metadata": {
        "colab": {
          "base_uri": "https://localhost:8080/",
          "height": 485
        },
        "id": "zt1dDWreB8gX",
        "outputId": "2a1916c1-3bc0-4268-8fdb-1f5bcbc3a554"
      },
      "outputs": [],
      "source": [
        "regioes_sp = regioes[regioes['estado'] == 'SP']\n",
        "regioes_sp"
      ]
    },
    {
      "cell_type": "code",
      "execution_count": null,
      "metadata": {
        "colab": {
          "base_uri": "https://localhost:8080/",
          "height": 592
        },
        "id": "3lg4sldgB8gX",
        "outputId": "2bd390b4-4056-4f9e-f274-429268561ca4"
      },
      "outputs": [],
      "source": [
        "colunas = ['area_territorial', 'populacao_estimada', 'pib_per_capita', 'saldo_receitas_despesas', 'IDHM_Educacao', 'GDP']\n",
        "sel = colunas\n",
        "regioesz = regioes_sp[sel].copy()\n",
        "listaz = []\n",
        "for coluna in colunas:\n",
        "    if (coluna != \"estado\") & (coluna != \"regiao_imediata\"):\n",
        "        print(coluna)\n",
        "        listaz.insert(0, 'z_'+coluna)\n",
        "        media = regioesz[coluna].mean()\n",
        "        dp = regioesz[coluna].std()\n",
        "        regioesz['z_'+coluna] = regioesz[coluna].apply(lambda x : (x - media) / dp)\n",
        "regioesz['totalz'] = regioesz[listaz].sum(axis=1)\n",
        "regioesz['ranking'] = regioesz['totalz'].rank(ascending=False)\n",
        "regioesz  "
      ]
    },
    {
      "cell_type": "code",
      "execution_count": null,
      "metadata": {
        "colab": {
          "base_uri": "https://localhost:8080/",
          "height": 609
        },
        "id": "gY6jBraPB8gX",
        "outputId": "64af99ae-5785-4f02-9631-24a37324e9d4"
      },
      "outputs": [],
      "source": [
        "regioes_sp = regioes_sp.merge(regioesz, right_index=True, left_index=True, how = 'left')\n",
        "regioes_sp"
      ]
    },
    {
      "cell_type": "code",
      "execution_count": null,
      "metadata": {
        "colab": {
          "base_uri": "https://localhost:8080/",
          "height": 272
        },
        "id": "IOi2jGXRB8gX",
        "outputId": "73d0c907-dc19-4ad1-b8ca-79645a8823a7"
      },
      "outputs": [],
      "source": [
        "regioes_sp.sort_values(by='ranking')[0:3]"
      ]
    },
    {
      "cell_type": "code",
      "execution_count": null,
      "metadata": {
        "colab": {
          "base_uri": "https://localhost:8080/",
          "height": 254
        },
        "id": "kv-F9zezB8gX",
        "outputId": "6ab912c2-ab94-45a6-df58-e21ba17c91e8"
      },
      "outputs": [],
      "source": [
        "regioes_sp.sort_values(by='ranking', ascending=False)[0:3]"
      ]
    },
    {
      "cell_type": "markdown",
      "metadata": {
        "id": "2c4uEVgaDhIH"
      },
      "source": [
        "#AM"
      ]
    },
    {
      "cell_type": "markdown",
      "metadata": {
        "id": "bONMHZGXDhII"
      },
      "source": [
        "##01"
      ]
    },
    {
      "cell_type": "code",
      "execution_count": null,
      "metadata": {
        "id": "n4yOj0ZZDhII"
      },
      "outputs": [],
      "source": [
        "import pandas as pd\n",
        "import numpy as np\n",
        "from statsmodels.stats.outliers_influence import variance_inflation_factor"
      ]
    },
    {
      "cell_type": "code",
      "execution_count": null,
      "metadata": {
        "colab": {
          "base_uri": "https://localhost:8080/"
        },
        "id": "RrxUJ-T5DhII",
        "outputId": "e02090a9-2e49-481f-fd17-5a39091632fc"
      },
      "outputs": [],
      "source": [
        "cidades = pd.read_excel('BRCidadesRegiao.xlsx')\n",
        "cidades"
      ]
    },
    {
      "cell_type": "code",
      "execution_count": null,
      "metadata": {
        "id": "ReUGMwQQDhII"
      },
      "outputs": [],
      "source": [
        "cidades = cidades[['regiao_imediata', 'cidade', 'estado', 'longitude', 'latitude', 'altitude',\n",
        "'area_territorial', 'populacao_estimada', 'densidade_demografica', 'pib_per_capita', 'receitas_realizadas',\n",
        "'despesas_empenhadas', 'saldo_receitas_despesas', 'unidades', 'unidades_urbanas', 'unidades_rurais', 'area_plantada', 'producao_graos',\n",
        "'IDHM_Renda', 'IDHM_Longevidade', 'IDHM_Educacao', 'GVA_agropecuaria', 'GVA_industria', 'GVA_Servicos', 'GVA_publico',\n",
        "'GDP', 'GDP_populacao', 'GDP_per_capita', 'estabelecimentos', 'carros', 'motos'\n",
        "]].copy()"
      ]
    },
    {
      "cell_type": "code",
      "execution_count": null,
      "metadata": {
        "colab": {
          "base_uri": "https://localhost:8080/"
        },
        "id": "J3ti2zZNDhII",
        "outputId": "c863eacf-c5a5-46cb-8289-990a43232321"
      },
      "outputs": [],
      "source": [
        "cidades.info()"
      ]
    },
    {
      "cell_type": "code",
      "execution_count": null,
      "metadata": {
        "colab": {
          "base_uri": "https://localhost:8080/"
        },
        "id": "gAOpd5hMDhIJ",
        "outputId": "af04d88c-846a-45d8-985b-af5fdbd09712"
      },
      "outputs": [],
      "source": [
        "cidades.replace([np.inf, -np.inf], np.nan, inplace=True)\n",
        "cidades.dropna(inplace=True)\n",
        "cidades"
      ]
    },
    {
      "cell_type": "code",
      "execution_count": null,
      "metadata": {
        "colab": {
          "base_uri": "https://localhost:8080/"
        },
        "id": "V1JAD28lDhIJ",
        "outputId": "f2d571f1-5ade-4037-efa2-3e2e42c34aa5"
      },
      "outputs": [],
      "source": [
        "cidades['estado'].unique()"
      ]
    },
    {
      "cell_type": "code",
      "execution_count": null,
      "metadata": {
        "colab": {
          "base_uri": "https://localhost:8080/"
        },
        "id": "yx6Ejp-1DhIJ",
        "outputId": "fb98cfb9-6731-4a4f-9f43-f16963d99c3a"
      },
      "outputs": [],
      "source": [
        "cidades_am = cidades[cidades['estado'] == 'AM'].copy()\n",
        "cidades_am"
      ]
    },
    {
      "cell_type": "code",
      "execution_count": null,
      "metadata": {
        "colab": {
          "base_uri": "https://localhost:8080/"
        },
        "id": "NRRG0XHmDhIJ",
        "outputId": "74dcebb3-cae0-40de-9427-8f1bcacb2e0b"
      },
      "outputs": [],
      "source": [
        "vif_dt = cidades_am[[\n",
        "'area_territorial', 'populacao_estimada', 'densidade_demografica', 'pib_per_capita', 'receitas_realizadas',\n",
        "'despesas_empenhadas', 'saldo_receitas_despesas', 'unidades', 'unidades_urbanas', 'unidades_rurais', 'area_plantada', 'producao_graos',\n",
        "'IDHM_Renda', 'IDHM_Longevidade', 'IDHM_Educacao', 'GVA_agropecuaria', 'GVA_industria', 'GVA_Servicos', 'GVA_publico',\n",
        "'GDP', 'GDP_populacao', 'GDP_per_capita', 'estabelecimentos', 'carros', 'motos'\n",
        "]]\n",
        "vif_dt"
      ]
    },
    {
      "cell_type": "code",
      "execution_count": null,
      "metadata": {
        "colab": {
          "base_uri": "https://localhost:8080/"
        },
        "id": "y-z0LgRFDhIJ",
        "outputId": "63f13e12-600e-49a3-9636-0ab104098ac4"
      },
      "outputs": [],
      "source": [
        "vif_data = pd.DataFrame()\n",
        "vif_data['variavel'] = vif_dt.columns\n",
        "vif_data['VIF'] = [variance_inflation_factor(vif_dt.values, i)\n",
        "    for i in range(len(vif_dt.columns))]\n",
        "round(vif_data,4)"
      ]
    },
    {
      "cell_type": "code",
      "execution_count": null,
      "metadata": {
        "colab": {
          "base_uri": "https://localhost:8080/"
        },
        "id": "-fnCOtPYDhIK",
        "outputId": "aa6c2a48-4fde-4e06-884c-cf0aef34cea5"
      },
      "outputs": [],
      "source": [
        "vif_dt = cidades_am[[\n",
        "'area_territorial', 'populacao_estimada', 'pib_per_capita',\n",
        "'saldo_receitas_despesas', 'IDHM_Educacao', 'GDP']]\n",
        "vif_dt"
      ]
    },
    {
      "cell_type": "code",
      "execution_count": null,
      "metadata": {
        "colab": {
          "base_uri": "https://localhost:8080/"
        },
        "id": "9nhsDEedDhIK",
        "outputId": "134c6cc5-0799-4878-d7a9-c54119a470a3"
      },
      "outputs": [],
      "source": [
        "vif_data = pd.DataFrame()\n",
        "vif_data['variavel'] = vif_dt.columns\n",
        "vif_data['VIF'] = [variance_inflation_factor(vif_dt.values, i)\n",
        "    for i in range(len(vif_dt.columns))]\n",
        "vif_data"
      ]
    },
    {
      "cell_type": "markdown",
      "metadata": {
        "id": "I0JkYvVmDhIK"
      },
      "source": [
        "##02"
      ]
    },
    {
      "cell_type": "code",
      "execution_count": null,
      "metadata": {
        "colab": {
          "base_uri": "https://localhost:8080/"
        },
        "id": "GEvJGUedDhIK",
        "outputId": "e4bd5b2e-f09c-48e6-ba3c-f3281bc4883d"
      },
      "outputs": [],
      "source": [
        "vif_dt = vif_dt.copy()\n",
        "for coluna in vif_dt.columns:\n",
        "    print(coluna)\n",
        "    out_max = vif_dt[coluna].quantile(0.75) + ((vif_dt[coluna].quantile(0.75) - vif_dt[coluna].quantile(0.25)) * 1.5)\n",
        "    print(out_max)\n",
        "    vif_dt[coluna] = vif_dt[coluna].apply(lambda x : out_max if x > out_max else x)\n",
        "    out_min = vif_dt[coluna].quantile(0.25) - ((vif_dt[coluna].quantile(0.75) - vif_dt[coluna].quantile(0.25)) * 1.5)\n",
        "    print(out_min)\n",
        "    vif_dt[coluna] = vif_dt[coluna].apply(lambda x : out_min if x < out_min else x)\n",
        "vif_dt"
      ]
    },
    {
      "cell_type": "markdown",
      "metadata": {
        "id": "RM5s5IBHDhIK"
      },
      "source": [
        "##3"
      ]
    },
    {
      "cell_type": "code",
      "execution_count": null,
      "metadata": {
        "colab": {
          "base_uri": "https://localhost:8080/"
        },
        "id": "1KspjQldDhIK",
        "outputId": "d41d9798-8eb1-432a-d2fa-514bddd56ef5"
      },
      "outputs": [],
      "source": [
        "colunas = ['area_territorial', 'populacao_estimada', 'pib_per_capita', 'saldo_receitas_despesas', 'IDHM_Educacao', 'GDP']\n",
        "sel = colunas\n",
        "cidadesz = vif_dt[sel].copy()\n",
        "listaz = []\n",
        "for coluna in colunas:\n",
        "    if coluna != \"cidade\":\n",
        "        print(coluna)\n",
        "        listaz.insert(0, 'z_'+coluna)\n",
        "        media = cidadesz[coluna].mean()\n",
        "        dp = cidadesz[coluna].std()\n",
        "        cidadesz['z_'+coluna] = cidadesz[coluna].apply(lambda x : (x - media) / dp)\n",
        "cidadesz['totalz'] = cidadesz[listaz].sum(axis=1)\n",
        "cidadesz['ranking'] = cidadesz['totalz'].rank(ascending=False)\n",
        "cidadesz "
      ]
    },
    {
      "cell_type": "code",
      "execution_count": null,
      "metadata": {
        "colab": {
          "base_uri": "https://localhost:8080/"
        },
        "id": "JyMnA1AxDhIL",
        "outputId": "8aee8dd0-5373-45f5-bfaa-ad1dc1792b01"
      },
      "outputs": [],
      "source": [
        "cidades_am = cidades_am.merge(cidadesz, right_index=True, left_index=True, how = 'left')\n",
        "cidades_am"
      ]
    },
    {
      "cell_type": "code",
      "execution_count": null,
      "metadata": {
        "colab": {
          "base_uri": "https://localhost:8080/"
        },
        "id": "BnO8Zpo7DhIL",
        "outputId": "3fce959c-bc30-4dd6-9143-20198c7f7097"
      },
      "outputs": [],
      "source": [
        "cidades_am.sort_values(by='ranking')[0:10]"
      ]
    },
    {
      "cell_type": "code",
      "execution_count": null,
      "metadata": {
        "colab": {
          "base_uri": "https://localhost:8080/"
        },
        "id": "C3KmwyMfDhIL",
        "outputId": "bc821d85-e743-418b-f64e-75160a085c89"
      },
      "outputs": [],
      "source": [
        "cidades_am.sort_values(by='ranking', ascending=False)[0:10]"
      ]
    },
    {
      "cell_type": "markdown",
      "metadata": {
        "id": "WdlN_wttDhIL"
      },
      "source": [
        "##4"
      ]
    },
    {
      "cell_type": "code",
      "execution_count": null,
      "metadata": {
        "colab": {
          "base_uri": "https://localhost:8080/"
        },
        "id": "Uq6tuMdZDhIL",
        "outputId": "b33b53a1-2729-4478-b9a3-681f1e5a097d"
      },
      "outputs": [],
      "source": [
        "regioes = cidades.groupby(['estado','regiao_imediata'])[\n",
        "    ['area_territorial', 'populacao_estimada', 'pib_per_capita', 'saldo_receitas_despesas', 'IDHM_Educacao', 'GDP']\n",
        "    ].mean().reset_index().copy()\n",
        "regioes"
      ]
    },
    {
      "cell_type": "code",
      "execution_count": null,
      "metadata": {
        "colab": {
          "base_uri": "https://localhost:8080/"
        },
        "id": "JvXvATRlDhIM",
        "outputId": "fa9ff32f-838f-4a06-bb7f-125c03f77509"
      },
      "outputs": [],
      "source": [
        "regioes_am = regioes[regioes['estado'] == 'AM']\n",
        "regioes_am"
      ]
    },
    {
      "cell_type": "code",
      "execution_count": null,
      "metadata": {
        "colab": {
          "base_uri": "https://localhost:8080/"
        },
        "id": "fQIi52TtDhIM",
        "outputId": "bdbc5e96-9f3b-4234-b0db-8438a3bc4683"
      },
      "outputs": [],
      "source": [
        "colunas = ['area_territorial', 'populacao_estimada', 'pib_per_capita', 'saldo_receitas_despesas', 'IDHM_Educacao', 'GDP']\n",
        "sel = colunas\n",
        "regioesz = regioes_am[sel].copy()\n",
        "listaz = []\n",
        "for coluna in colunas:\n",
        "    if (coluna != \"estado\") & (coluna != \"regiao_imediata\"):\n",
        "        print(coluna)\n",
        "        listaz.insert(0, 'z_'+coluna)\n",
        "        media = regioesz[coluna].mean()\n",
        "        dp = regioesz[coluna].std()\n",
        "        regioesz['z_'+coluna] = regioesz[coluna].apply(lambda x : (x - media) / dp)\n",
        "regioesz['totalz'] = regioesz[listaz].sum(axis=1)\n",
        "regioesz['ranking'] = regioesz['totalz'].rank(ascending=False)\n",
        "regioesz  "
      ]
    },
    {
      "cell_type": "code",
      "execution_count": null,
      "metadata": {
        "colab": {
          "base_uri": "https://localhost:8080/"
        },
        "id": "seg1DH_eDhIM",
        "outputId": "32ce093e-6efb-4274-ddf9-b2ab335856c7"
      },
      "outputs": [],
      "source": [
        "regioes_am = regioes_am.merge(regioesz, right_index=True, left_index=True, how = 'left')\n",
        "regioes_am"
      ]
    },
    {
      "cell_type": "code",
      "execution_count": null,
      "metadata": {
        "colab": {
          "base_uri": "https://localhost:8080/"
        },
        "id": "JJpX8oXNDhIM",
        "outputId": "59929ebb-9f34-4c5e-eb00-19461923b03b"
      },
      "outputs": [],
      "source": [
        "regioes_am.sort_values(by='ranking')[0:3]"
      ]
    },
    {
      "cell_type": "code",
      "execution_count": null,
      "metadata": {
        "colab": {
          "base_uri": "https://localhost:8080/"
        },
        "id": "qu_u8GcdDhIN",
        "outputId": "86fe0b31-149c-40c0-a5b0-66e5df26ad28"
      },
      "outputs": [],
      "source": [
        "regioes_am.sort_values(by='ranking', ascending=False)[0:3]"
      ]
    }
  ],
  "metadata": {
    "colab": {
      "provenance": [],
      "toc_visible": true
    },
    "kernelspec": {
      "display_name": "Python 3",
      "name": "python3"
    },
    "language_info": {
      "codemirror_mode": {
        "name": "ipython",
        "version": 3
      },
      "file_extension": ".py",
      "mimetype": "text/x-python",
      "name": "python",
      "nbconvert_exporter": "python",
      "pygments_lexer": "ipython3",
      "version": "3.11.3"
    }
  },
  "nbformat": 4,
  "nbformat_minor": 0
}
