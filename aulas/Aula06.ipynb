{
 "cells": [
  {
   "cell_type": "code",
   "execution_count": null,
   "metadata": {},
   "outputs": [],
   "source": [
    "import numpy as np\n",
    "\n",
    "estados = pd.read_csv('brasil_estados.csv')\n",
    "estados.head()"
   ]
  },
  {
   "cell_type": "code",
   "execution_count": null,
   "metadata": {},
   "outputs": [],
   "source": [
    "import seaborn as sns\n",
    "\n",
    "data = estados[\n",
    "    [\n",
    "        'area',\n",
    "        'populacao',\n",
    "        'densidade',\n",
    "        'matricula',\n",
    "        'idh',\n",
    "        'receitas',\n",
    "        'despesas',\n",
    "        'rendimento',\n",
    "        'veiculos'\n",
    "    ]\n",
    "]\n",
    "\n",
    "sns.regplot(data=data, x='area', y='populacao')"
   ]
  }
 ],
 "metadata": {
  "kernelspec": {
   "display_name": "Python 3",
   "language": "python",
   "name": "python3"
  },
  "language_info": {
   "codemirror_mode": {
    "name": "ipython",
    "version": 3
   },
   "file_extension": ".py",
   "mimetype": "text/x-python",
   "name": "python",
   "nbconvert_exporter": "python",
   "pygments_lexer": "ipython3",
   "version": "3.11.3"
  },
  "orig_nbformat": 4
 },
 "nbformat": 4,
 "nbformat_minor": 2
}
