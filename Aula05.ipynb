{
 "cells": [
  {
   "cell_type": "code",
   "execution_count": null,
   "metadata": {},
   "outputs": [],
   "source": [
    "import pandas as pd\n",
    "import numpy as np"
   ]
  },
  {
   "cell_type": "code",
   "execution_count": null,
   "metadata": {},
   "outputs": [],
   "source": [
    "estados = pd.read_csv('brasil_estados.csv')\n",
    "estados"
   ]
  },
  {
   "cell_type": "code",
   "execution_count": null,
   "metadata": {},
   "outputs": [],
   "source": [
    "estados.groupby('regiao_nome')['area'].mean().reset_index()"
   ]
  },
  {
   "cell_type": "code",
   "execution_count": null,
   "metadata": {},
   "outputs": [],
   "source": [
    "area_proporcional = estados[['regiao_nome', 'uf', 'area']].merge(\n",
    "    estados.groupby('regiao_nome')['area'].sum().reset_index(),\n",
    "    on = 'regiao_nome',\n",
    "    how = 'left'\n",
    ")\n",
    "area_proporcional"
   ]
  },
  {
   "cell_type": "code",
   "execution_count": null,
   "metadata": {},
   "outputs": [],
   "source": [
    "area_rank = estados.groupby(\n",
    "    ['uf']\n",
    ")['area'].sum().rank().reset_index().sort_values(by='area', ascending=False)\n",
    "area_rank"
   ]
  },
  {
   "cell_type": "code",
   "execution_count": null,
   "metadata": {},
   "outputs": [],
   "source": [
    "area_rank = estados.groupby(['regiao_nome', 'uf'])['area'].sum().reset_index()\n",
    "area_rank['rank_area_regiao'] = \\\n",
    "    area_rank.groupby('regiao_nome')['area'].rank(method='first')\n",
    "area_rank"
   ]
  },
  {
   "cell_type": "code",
   "execution_count": null,
   "metadata": {},
   "outputs": [],
   "source": [
    "media = estados['area'].mean()\n",
    "estados['classe_area'] = estados['area'].apply(\n",
    "    lambda x : 'Acima' if x > media else 'Abaixo'\n",
    ")\n",
    "estados"
   ]
  },
  {
   "cell_type": "code",
   "execution_count": null,
   "metadata": {},
   "outputs": [],
   "source": [
    "estados.pivot_table(\n",
    "    index = 'regiao_nome',\n",
    "    columns = 'classe_area',\n",
    "    values = 'area',\n",
    "    aggfunc = ['sum', 'mean', 'count'],\n",
    "    fill_value = 0\n",
    ").reset_index()"
   ]
  },
  {
   "cell_type": "code",
   "execution_count": null,
   "metadata": {},
   "outputs": [],
   "source": [
    "soma = estados['area'].sum()\n",
    "maiores_estados = estados[['uf', 'area']].sort_values(by='area', ascending=False)\n",
    "maiores_estados['percentual'] = round(maiores_estados['area'] / soma * 100, 2)\n",
    "maiores_estados['acumulado'] = maiores_estados['percentual'].cumsum()\n",
    "maiores_estados['curva_abc'] = maiores_estados['acumulado'].apply(\n",
    "    lambda x : 'A' if x <= 65 else ('B' if x <= 90 else 'C')\n",
    ")\n",
    "maiores_estados['legenda'] = maiores_estados.apply(\n",
    "    lambda x : x['uf'] if x['curva_abc'] != 'C' else 'Outros', axis = 1\n",
    ")\n",
    "maiores_estados"
   ]
  },
  {
   "cell_type": "code",
   "execution_count": null,
   "metadata": {},
   "outputs": [],
   "source": [
    "maiores_areas = estados[['uf', 'area']].sort_values(by='area', ascending=False)\n",
    "maiores_areas['anterior'] = maiores_areas['area'].shift(1)\n",
    "maiores_areas['diferenca'] = maiores_areas['area'].shift(1) - maiores_areas['area']\n",
    "maiores_areas['percentual'] = maiores_areas['area'].pct_change(periods=1)\n",
    "maiores_areas"
   ]
  },
  {
   "cell_type": "code",
   "execution_count": null,
   "metadata": {},
   "outputs": [],
   "source": [
    "estados.info()"
   ]
  },
  {
   "cell_type": "code",
   "execution_count": null,
   "metadata": {},
   "outputs": [],
   "source": [
    "estados[['area', 'populacao', 'matricula', 'idh', \n",
    "     'receitas', 'despesas', 'rendimento', 'veiculos']].corr()"
   ]
  },
  {
   "cell_type": "code",
   "execution_count": null,
   "metadata": {},
   "outputs": [],
   "source": [
    "import seaborn as sns"
   ]
  },
  {
   "cell_type": "code",
   "execution_count": null,
   "metadata": {},
   "outputs": [],
   "source": [
    "sns.regplot(data = estados, x = 'matricula', y = 'populacao')"
   ]
  }
 ],
 "metadata": {
  "kernelspec": {
   "display_name": "Python 3",
   "language": "python",
   "name": "python3"
  },
  "language_info": {
   "codemirror_mode": {
    "name": "ipython",
    "version": 3
   },
   "file_extension": ".py",
   "mimetype": "text/x-python",
   "name": "python",
   "nbconvert_exporter": "python",
   "pygments_lexer": "ipython3",
   "version": "3.10.10"
  },
  "orig_nbformat": 4
 },
 "nbformat": 4,
 "nbformat_minor": 2
}
